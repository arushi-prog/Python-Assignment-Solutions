{
  "nbformat": 4,
  "nbformat_minor": 0,
  "metadata": {
    "colab": {
      "provenance": [],
      "authorship_tag": "ABX9TyOMVBJfdUWBpmuno7Rehi5e",
      "include_colab_link": true
    },
    "kernelspec": {
      "name": "python3",
      "display_name": "Python 3"
    },
    "language_info": {
      "name": "python"
    }
  },
  "cells": [
    {
      "cell_type": "markdown",
      "metadata": {
        "id": "view-in-github",
        "colab_type": "text"
      },
      "source": [
        "<a href=\"https://colab.research.google.com/github/arushi-prog/Python-Assignment-Solutions/blob/main/BasicsOfPythonSol.ipynb\" target=\"_parent\"><img src=\"https://colab.research.google.com/assets/colab-badge.svg\" alt=\"Open In Colab\"/></a>"
      ]
    },
    {
      "cell_type": "code",
      "execution_count": 2,
      "metadata": {
        "colab": {
          "base_uri": "https://localhost:8080/"
        },
        "id": "IzOlrVHJiSpD",
        "outputId": "5f7af6bc-c00e-4c5c-a195-3dc820d6f0e7"
      },
      "outputs": [
        {
          "output_type": "stream",
          "name": "stdout",
          "text": [
            "Original list ->  [11, 12, 13, 14]\n",
            "List after adding ->  [11, 12, 13, 14, 50, 60]\n"
          ]
        }
      ],
      "source": [
        "L = [11,12,13,14]\n",
        "print (\"Original list -> \",L)\n",
        "L.extend([50,60])\n",
        "print (\"List after adding -> \",L)"
      ]
    },
    {
      "cell_type": "code",
      "source": [
        "L = [11,12,13,14]\n",
        "print (\"Original list -> \",L)\n",
        "del L[0]\n",
        "del L[1]\n",
        "print (\"List after deleting -> \",L)"
      ],
      "metadata": {
        "colab": {
          "base_uri": "https://localhost:8080/"
        },
        "id": "O4I-_S9-nWKB",
        "outputId": "9db36e2a-3f6f-4e22-e474-758c2b0acbae"
      },
      "execution_count": 3,
      "outputs": [
        {
          "output_type": "stream",
          "name": "stdout",
          "text": [
            "Original list ->  [11, 12, 13, 14]\n",
            "List after deleting ->  [12, 14]\n"
          ]
        }
      ]
    },
    {
      "cell_type": "code",
      "source": [
        "L = [11,12,13,14]\n",
        "print (\"Original list -> \",L)\n",
        "print (\"Ascending order -> \",sorted(L))"
      ],
      "metadata": {
        "colab": {
          "base_uri": "https://localhost:8080/"
        },
        "id": "hlhT-GnknkUB",
        "outputId": "bc8dacfd-bcaf-4fcc-de24-f6db1bf561bf"
      },
      "execution_count": 5,
      "outputs": [
        {
          "output_type": "stream",
          "name": "stdout",
          "text": [
            "Original list ->  [11, 12, 13, 14]\n",
            "Ascending order ->  [11, 12, 13, 14]\n"
          ]
        }
      ]
    },
    {
      "cell_type": "code",
      "source": [
        "L = [11,12,13,14]\n",
        "print (\"Original list -> \",L)\n",
        "L.sort(reverse = True)\n",
        "print (\"Descending order -> \",L)"
      ],
      "metadata": {
        "colab": {
          "base_uri": "https://localhost:8080/"
        },
        "id": "DTlKwMwrnyxz",
        "outputId": "99be5e5f-8bdf-4586-d8d2-5588ca69482c"
      },
      "execution_count": 7,
      "outputs": [
        {
          "output_type": "stream",
          "name": "stdout",
          "text": [
            "Original list ->  [11, 12, 13, 14]\n",
            "Descending order ->  [14, 13, 12, 11]\n"
          ]
        }
      ]
    },
    {
      "cell_type": "code",
      "source": [
        "L = [11,12,13,14]\n",
        "print (\"Original list -> \",L)\n",
        "print (\"13 in L -> \",13 in L)"
      ],
      "metadata": {
        "colab": {
          "base_uri": "https://localhost:8080/"
        },
        "id": "ygYMqYhrn86N",
        "outputId": "147b94be-e548-4064-b19a-8172c0ea72c6"
      },
      "execution_count": 8,
      "outputs": [
        {
          "output_type": "stream",
          "name": "stdout",
          "text": [
            "Original list ->  [11, 12, 13, 14]\n",
            "13 in L ->  True\n"
          ]
        }
      ]
    },
    {
      "cell_type": "code",
      "source": [
        "L = [11,12,13,14]\n",
        "print (\"Original list -> \",L)\n",
        "print (\"No. of elements -> \",len(L))\n"
      ],
      "metadata": {
        "colab": {
          "base_uri": "https://localhost:8080/"
        },
        "id": "AqE2JDM0oRML",
        "outputId": "54f6be72-f283-45df-9e51-326ccff407f9"
      },
      "execution_count": 9,
      "outputs": [
        {
          "output_type": "stream",
          "name": "stdout",
          "text": [
            "Original list ->  [11, 12, 13, 14]\n",
            "No. of elements ->  4\n"
          ]
        }
      ]
    },
    {
      "cell_type": "code",
      "source": [
        "L = [11,12,13,14]\n",
        "print (\"Original list -> \",L)\n",
        "print (\"Sum of elements -> \",sum(L))"
      ],
      "metadata": {
        "colab": {
          "base_uri": "https://localhost:8080/"
        },
        "id": "e0SGrBbpoXdd",
        "outputId": "b61b1dd2-e954-432e-f094-b4e42ba5c2be"
      },
      "execution_count": 10,
      "outputs": [
        {
          "output_type": "stream",
          "name": "stdout",
          "text": [
            "Original list ->  [11, 12, 13, 14]\n",
            "Sum of elements ->  50\n"
          ]
        }
      ]
    },
    {
      "cell_type": "code",
      "source": [
        "L = [11,12,13,14]\n",
        "print (\"Original list -> \",L)\n",
        "sum = 0\n",
        "for o in L:\n",
        "  if o%2 !=0:\n",
        "   sum = sum+o\n",
        "   print (\"odd elements in list -> \",o)\n",
        "print (\"Sum of odd numbers -> \",sum)"
      ],
      "metadata": {
        "colab": {
          "base_uri": "https://localhost:8080/"
        },
        "id": "Aig_rp-Xohtd",
        "outputId": "de6e68da-1626-486a-e501-b3992eed38b3"
      },
      "execution_count": 17,
      "outputs": [
        {
          "output_type": "stream",
          "name": "stdout",
          "text": [
            "Original list ->  [11, 12, 13, 14]\n",
            "odd elements in list ->  11\n",
            "odd elements in list ->  13\n",
            "Sum of odd numbers ->  24\n"
          ]
        }
      ]
    },
    {
      "cell_type": "code",
      "source": [
        "L = [11,12,13,14]\n",
        "print (\"Original list -> \",L)\n",
        "sum = 0\n",
        "for e in L:\n",
        "  if e%2 == 0:\n",
        "   sum = sum+e\n",
        "   print (\"even elements in list -> \",e)\n",
        "print (\"Sum of even elements -> \",sum)"
      ],
      "metadata": {
        "colab": {
          "base_uri": "https://localhost:8080/"
        },
        "id": "jJGbkWpWpkmE",
        "outputId": "ee000478-48b8-4624-e63a-25359afa8cce"
      },
      "execution_count": 19,
      "outputs": [
        {
          "output_type": "stream",
          "name": "stdout",
          "text": [
            "Original list ->  [11, 12, 13, 14]\n",
            "even elements in list ->  12\n",
            "even elements in list ->  14\n",
            "Sum of even elements ->  26\n"
          ]
        }
      ]
    },
    {
      "cell_type": "code",
      "source": [
        "L = [11,12,13,14]\n",
        "print (\"Original list -> \",L)\n",
        "\n",
        "def is_prime(n):\n",
        "    if n <= 1:\n",
        "        return False\n",
        "    for i in range(2, int(n**0.5) + 1):\n",
        "        if n % i == 0:\n",
        "            return False\n",
        "    return True\n",
        "\n",
        "prime_numbers = [x for x in L if is_prime(x)]\n",
        "print(\"Prime numbers in L -> \", prime_numbers)\n",
        "\n",
        "prime_sum = sum(prime_numbers)\n",
        "print(\"Sum of prime numbers -> \", prime_sum)"
      ],
      "metadata": {
        "colab": {
          "base_uri": "https://localhost:8080/"
        },
        "id": "M6t4yrQyp1Gv",
        "outputId": "ea97e508-457f-4e5d-f972-389b82a74bf2"
      },
      "execution_count": 22,
      "outputs": [
        {
          "output_type": "stream",
          "name": "stdout",
          "text": [
            "Original list ->  [11, 12, 13, 14]\n",
            "Prime numbers in L ->  [11, 13]\n",
            "Sum of prime numbers ->  24\n"
          ]
        }
      ]
    },
    {
      "cell_type": "code",
      "source": [
        "L = [11,12,13,14]\n",
        "print (\"Original list -> \",L)\n",
        "L.clear()\n",
        "print (\"List after clearing -> \",L)\n"
      ],
      "metadata": {
        "colab": {
          "base_uri": "https://localhost:8080/"
        },
        "id": "eMd5YzBzY65Q",
        "outputId": "b9f9e15a-086b-42a7-f602-2eb7c6b628c7"
      },
      "execution_count": 23,
      "outputs": [
        {
          "output_type": "stream",
          "name": "stdout",
          "text": [
            "Original list ->  [11, 12, 13, 14]\n",
            "List after clearing ->  []\n"
          ]
        }
      ]
    },
    {
      "cell_type": "code",
      "source": [
        "L = [11,12,13,14]\n",
        "print (\"Original list -> \",L)\n",
        "del L\n",
        "print (\"List after deleting -> \",L) #will give an error"
      ],
      "metadata": {
        "colab": {
          "base_uri": "https://localhost:8080/",
          "height": 198
        },
        "id": "u0IU60KSZCSr",
        "outputId": "fdc3b343-5191-4dcc-b802-aadb40ce02cd"
      },
      "execution_count": 24,
      "outputs": [
        {
          "output_type": "stream",
          "name": "stdout",
          "text": [
            "Original list ->  [11, 12, 13, 14]\n"
          ]
        },
        {
          "output_type": "error",
          "ename": "NameError",
          "evalue": "name 'L' is not defined",
          "traceback": [
            "\u001b[0;31m---------------------------------------------------------------------------\u001b[0m",
            "\u001b[0;31mNameError\u001b[0m                                 Traceback (most recent call last)",
            "\u001b[0;32m<ipython-input-24-1066663688>\u001b[0m in \u001b[0;36m<cell line: 0>\u001b[0;34m()\u001b[0m\n\u001b[1;32m      2\u001b[0m \u001b[0mprint\u001b[0m \u001b[0;34m(\u001b[0m\u001b[0;34m\"Original list -> \"\u001b[0m\u001b[0;34m,\u001b[0m\u001b[0mL\u001b[0m\u001b[0;34m)\u001b[0m\u001b[0;34m\u001b[0m\u001b[0;34m\u001b[0m\u001b[0m\n\u001b[1;32m      3\u001b[0m \u001b[0;32mdel\u001b[0m \u001b[0mL\u001b[0m\u001b[0;34m\u001b[0m\u001b[0;34m\u001b[0m\u001b[0m\n\u001b[0;32m----> 4\u001b[0;31m \u001b[0mprint\u001b[0m \u001b[0;34m(\u001b[0m\u001b[0;34m\"List after deleting -> \"\u001b[0m\u001b[0;34m,\u001b[0m\u001b[0mL\u001b[0m\u001b[0;34m)\u001b[0m\u001b[0;34m\u001b[0m\u001b[0;34m\u001b[0m\u001b[0m\n\u001b[0m",
            "\u001b[0;31mNameError\u001b[0m: name 'L' is not defined"
          ]
        }
      ]
    },
    {
      "cell_type": "code",
      "source": [
        "D = {1:5.6,2:7.8,3:6.6,4:8.7,5:7.7}\n",
        "print (\"Original dictionary -> \",D)\n",
        "D[8] = 8.8\n",
        "print (\"Dictionary after adding -> \",D)"
      ],
      "metadata": {
        "colab": {
          "base_uri": "https://localhost:8080/"
        },
        "id": "jz8OiYaMZRWq",
        "outputId": "a9df0924-191f-445f-dfa3-b55f34badad4"
      },
      "execution_count": 28,
      "outputs": [
        {
          "output_type": "stream",
          "name": "stdout",
          "text": [
            "Original dictionary ->  {1: 5.6, 2: 7.8, 3: 6.6, 4: 8.7, 5: 7.7}\n",
            "Dictionary after adding ->  {1: 5.6, 2: 7.8, 3: 6.6, 4: 8.7, 5: 7.7, 8: 8.8}\n"
          ]
        }
      ]
    },
    {
      "cell_type": "code",
      "source": [
        "D = {1:5.6,2:7.8,3:6.6,4:8.7,5:7.7}\n",
        "print (\"Original dictionary -> \",D)\n",
        "del D[2]\n",
        "print (\"Dictionary after deleting -> \",D)"
      ],
      "metadata": {
        "colab": {
          "base_uri": "https://localhost:8080/"
        },
        "id": "Psq4SDVAb7AI",
        "outputId": "5e0b3296-11f5-4494-83da-9cedfeb5da52"
      },
      "execution_count": 29,
      "outputs": [
        {
          "output_type": "stream",
          "name": "stdout",
          "text": [
            "Original dictionary ->  {1: 5.6, 2: 7.8, 3: 6.6, 4: 8.7, 5: 7.7}\n",
            "Dictionary after deleting ->  {1: 5.6, 3: 6.6, 4: 8.7, 5: 7.7}\n"
          ]
        }
      ]
    },
    {
      "cell_type": "code",
      "source": [
        "D = {1:5.6,2:7.8,3:6.6,4:8.7,5:7.7}\n",
        "print (\"Original dictionary -> \",D)\n",
        "print (\"Is key 6 present -> \",6 in D)"
      ],
      "metadata": {
        "colab": {
          "base_uri": "https://localhost:8080/"
        },
        "id": "12i45-aRcHUo",
        "outputId": "333c04f3-4839-458a-a81a-6fa20540c4f4"
      },
      "execution_count": 31,
      "outputs": [
        {
          "output_type": "stream",
          "name": "stdout",
          "text": [
            "Original dictionary ->  {1: 5.6, 2: 7.8, 3: 6.6, 4: 8.7, 5: 7.7}\n",
            "Is key 6 present ->  False\n"
          ]
        }
      ]
    },
    {
      "cell_type": "code",
      "source": [
        "D = {1:5.6,2:7.8,3:6.6,4:8.7,5:7.7}\n",
        "print (\"Original dictionary -> \",D)\n",
        "print (\"No. of elements in D -> \",len(D))"
      ],
      "metadata": {
        "colab": {
          "base_uri": "https://localhost:8080/"
        },
        "id": "9I2mgVqgcZaf",
        "outputId": "f88b7567-e4b1-4678-8ade-856efa1abee6"
      },
      "execution_count": 32,
      "outputs": [
        {
          "output_type": "stream",
          "name": "stdout",
          "text": [
            "Original dictionary ->  {1: 5.6, 2: 7.8, 3: 6.6, 4: 8.7, 5: 7.7}\n",
            "No. of elements in D ->  5\n"
          ]
        }
      ]
    },
    {
      "cell_type": "code",
      "source": [
        "D = {1:5.6,2:7.8,3:6.6,4:8.7,5:7.7}\n",
        "print (\"Original dictionary -> \",D)\n",
        "print (\"sum of all values in D -> \",sum(D.values()))"
      ],
      "metadata": {
        "colab": {
          "base_uri": "https://localhost:8080/"
        },
        "id": "9vvoHSdKcoEZ",
        "outputId": "d6763691-f245-4664-b01c-9565edff0f3c"
      },
      "execution_count": 35,
      "outputs": [
        {
          "output_type": "stream",
          "name": "stdout",
          "text": [
            "Original dictionary ->  {1: 5.6, 2: 7.8, 3: 6.6, 4: 8.7, 5: 7.7}\n",
            "sum of all values in D ->  36.4\n"
          ]
        }
      ]
    },
    {
      "cell_type": "code",
      "source": [
        "D = {1:5.6,2:7.8,3:6.6,4:8.7,5:7.7}\n",
        "print (\"Original dictionary -> \",D)\n",
        "D[3] = 7.1\n",
        "print (\"Dictionary after updating -> \",D)\n"
      ],
      "metadata": {
        "colab": {
          "base_uri": "https://localhost:8080/"
        },
        "id": "muZtkG-hdFZg",
        "outputId": "9c0a8252-614b-4ef9-8f2d-98bbb35c1592"
      },
      "execution_count": 36,
      "outputs": [
        {
          "output_type": "stream",
          "name": "stdout",
          "text": [
            "Original dictionary ->  {1: 5.6, 2: 7.8, 3: 6.6, 4: 8.7, 5: 7.7}\n",
            "Dictionary after updating ->  {1: 5.6, 2: 7.8, 3: 7.1, 4: 8.7, 5: 7.7}\n"
          ]
        }
      ]
    },
    {
      "cell_type": "code",
      "source": [
        "D = {1:5.6,2:7.8,3:6.6,4:8.7,5:7.7}\n",
        "print (\"Original dictionary -> \",D)\n",
        "D.clear()\n",
        "print (\"After clearing -> \",D)"
      ],
      "metadata": {
        "colab": {
          "base_uri": "https://localhost:8080/"
        },
        "id": "MtbuNN-PdN1F",
        "outputId": "ec7c10d7-9f50-48b7-c150-de29b075dfc5"
      },
      "execution_count": 37,
      "outputs": [
        {
          "output_type": "stream",
          "name": "stdout",
          "text": [
            "Original dictionary ->  {1: 5.6, 2: 7.8, 3: 6.6, 4: 8.7, 5: 7.7}\n",
            "After clearing ->  {}\n"
          ]
        }
      ]
    },
    {
      "cell_type": "code",
      "source": [
        "S1 = {10,20,30,40,50,60}\n",
        "S2 = {40,50,60,70,80,90}\n",
        "print (\"Original Set 1 -> \",S1)\n",
        "print (\"Original Set 2 -> \",S2)\n",
        "S1.add(55)\n",
        "S1.add(66)\n",
        "print (\"Set after adding -> \",S1)"
      ],
      "metadata": {
        "colab": {
          "base_uri": "https://localhost:8080/"
        },
        "id": "greAI4bUeGDO",
        "outputId": "47418568-f2f3-4a4b-bcce-46d400732f79"
      },
      "execution_count": 25,
      "outputs": [
        {
          "output_type": "stream",
          "name": "stdout",
          "text": [
            "Original Set 1 ->  {50, 20, 40, 10, 60, 30}\n",
            "Original Set 2 ->  {80, 50, 70, 40, 90, 60}\n",
            "Set after adding ->  {50, 66, 20, 55, 40, 10, 60, 30}\n"
          ]
        }
      ]
    },
    {
      "cell_type": "code",
      "source": [
        "S1 = {10,20,30,40,50,60}\n",
        "S2 = {40,50,60,70,80,90}\n",
        "print (\"Original Set 1 -> \",S1)\n",
        "print (\"Original Set 2 -> \",S2)\n",
        "S1.remove(10)\n",
        "S1.remove(30)\n",
        "print (\"Set after removing -> \",S1)"
      ],
      "metadata": {
        "colab": {
          "base_uri": "https://localhost:8080/"
        },
        "id": "hOPb0NK4esIX",
        "outputId": "f35c55e0-1f73-44aa-cace-d4162d3b9514"
      },
      "execution_count": 41,
      "outputs": [
        {
          "output_type": "stream",
          "name": "stdout",
          "text": [
            "Original Set 1 ->  {50, 20, 40, 10, 60, 30}\n",
            "Original Set 2 ->  {80, 50, 70, 40, 90, 60}\n",
            "Set after removing ->  {50, 20, 40, 60}\n"
          ]
        }
      ]
    },
    {
      "cell_type": "code",
      "source": [
        "S1 = {10,20,30,40,50,60}\n",
        "S2 = {40,50,60,70,80,90}\n",
        "print (\"Original Set 1 -> \",S1)\n",
        "print (\"Original Set 2 -> \",S2)\n",
        "print (\"Is 40 present in S1 -> \",40 in S1)"
      ],
      "metadata": {
        "colab": {
          "base_uri": "https://localhost:8080/"
        },
        "id": "_4vmQ_zdfGCv",
        "outputId": "925aae5d-e666-478e-9297-9294abce6c7b"
      },
      "execution_count": 42,
      "outputs": [
        {
          "output_type": "stream",
          "name": "stdout",
          "text": [
            "Original Set 1 ->  {50, 20, 40, 10, 60, 30}\n",
            "Original Set 2 ->  {80, 50, 70, 40, 90, 60}\n",
            "Is 40 present in S1 ->  True\n"
          ]
        }
      ]
    },
    {
      "cell_type": "code",
      "source": [
        "S1 = {10,20,30,40,50,60}\n",
        "S2 = {40,50,60,70,80,90}\n",
        "print (\"Original Set 1 -> \",S1)\n",
        "print (\"Original Set 2 -> \",S2)\n",
        "print (\"Union of S1 and S2 -> \",S1.union(S2))"
      ],
      "metadata": {
        "colab": {
          "base_uri": "https://localhost:8080/"
        },
        "id": "tyQySMjQfO1_",
        "outputId": "0a143ef5-d72e-478c-9c04-8f6797ddf5bb"
      },
      "execution_count": 43,
      "outputs": [
        {
          "output_type": "stream",
          "name": "stdout",
          "text": [
            "Original Set 1 ->  {50, 20, 40, 10, 60, 30}\n",
            "Original Set 2 ->  {80, 50, 70, 40, 90, 60}\n",
            "Union of S1 and S2 ->  {70, 40, 10, 80, 50, 20, 90, 60, 30}\n"
          ]
        }
      ]
    },
    {
      "cell_type": "code",
      "source": [
        "S1 = {10,20,30,40,50,60}\n",
        "S2 = {40,50,60,70,80,90}\n",
        "print (\"Original Set 1 -> \",S1)\n",
        "print (\"Original Set 2 -> \",S2)\n",
        "print (\"Intersection of S1 and S2 -> \",S1.intersection(S2))"
      ],
      "metadata": {
        "colab": {
          "base_uri": "https://localhost:8080/"
        },
        "id": "CAQ1o6edfenZ",
        "outputId": "29299c45-d61a-4a9c-d0c9-3a03e374a5a8"
      },
      "execution_count": 44,
      "outputs": [
        {
          "output_type": "stream",
          "name": "stdout",
          "text": [
            "Original Set 1 ->  {50, 20, 40, 10, 60, 30}\n",
            "Original Set 2 ->  {80, 50, 70, 40, 90, 60}\n",
            "Intersection of S1 and S2 ->  {40, 50, 60}\n"
          ]
        }
      ]
    },
    {
      "cell_type": "code",
      "source": [
        "S1 = {10,20,30,40,50,60}\n",
        "S2 = {40,50,60,70,80,90}\n",
        "print (\"Original Set 1 -> \",S1)\n",
        "print (\"Original Set 2 -> \",S2)\n",
        "print (\"Difference of S1-S2 -> \",S1.difference(S2))"
      ],
      "metadata": {
        "colab": {
          "base_uri": "https://localhost:8080/"
        },
        "id": "P9Mv6idJftUj",
        "outputId": "2b6b266d-8d42-4c2a-f65a-f71a91400702"
      },
      "execution_count": 45,
      "outputs": [
        {
          "output_type": "stream",
          "name": "stdout",
          "text": [
            "Original Set 1 ->  {50, 20, 40, 10, 60, 30}\n",
            "Original Set 2 ->  {80, 50, 70, 40, 90, 60}\n",
            "Difference of S1-S2 ->  {10, 20, 30}\n"
          ]
        }
      ]
    },
    {
      "cell_type": "code",
      "source": [
        "import string as s\n",
        "import random as r\n",
        "\n",
        "def random_string(length):\n",
        "  return \"\".join(r.sample(s.ascii_letters, length))\n",
        "\n",
        "for i in range(100):\n",
        "  length = r.randint(6, 8)\n",
        "  print(random_string(length))"
      ],
      "metadata": {
        "colab": {
          "base_uri": "https://localhost:8080/"
        },
        "id": "l6wrecnggJaX",
        "outputId": "5a3206dc-bc4a-4088-f31f-b9db9ac14061"
      },
      "execution_count": 6,
      "outputs": [
        {
          "output_type": "stream",
          "name": "stdout",
          "text": [
            "kTZXdN\n",
            "cISqyW\n",
            "kJlYOga\n",
            "KncFAxT\n",
            "dmlWOKjk\n",
            "LlcsNjou\n",
            "pRuAsto\n",
            "fAGIrDlC\n",
            "QxUGgF\n",
            "PDmHni\n",
            "fQtOeGW\n",
            "bfzEJVe\n",
            "XzKHvBjy\n",
            "IVyiqPNQ\n",
            "CvRHhjmK\n",
            "IyJrACOd\n",
            "kZcWnUOf\n",
            "uRQdktz\n",
            "VXISURp\n",
            "PGuvOda\n",
            "zjhOInu\n",
            "xANwRIhn\n",
            "dPSNif\n",
            "jkOqHRVn\n",
            "BwCgEJ\n",
            "zFigToyc\n",
            "GQOWjZmK\n",
            "ALGZpqX\n",
            "GdaUxJg\n",
            "dgusKATN\n",
            "OLvsyNe\n",
            "ibIrkBKo\n",
            "jKIyoEf\n",
            "bMNxYhaK\n",
            "XZKDRIow\n",
            "ZeNrLt\n",
            "RFhdbiTM\n",
            "QuwMrkGU\n",
            "PrHKXVyZ\n",
            "BZEWqI\n",
            "nhmtBJK\n",
            "PJZzHce\n",
            "nHXkTiPo\n",
            "DtfkZb\n",
            "LKSrkX\n",
            "vwxfGg\n",
            "BYiauh\n",
            "bAxrSF\n",
            "iFSdkv\n",
            "bILclA\n",
            "VgYTbDj\n",
            "whjAFtP\n",
            "oiryVMt\n",
            "vouidYR\n",
            "qfKpLv\n",
            "KIuLXp\n",
            "RzxoFpG\n",
            "eaOgxk\n",
            "eabKJhm\n",
            "rtpTFP\n",
            "MxRkWNTn\n",
            "HjwSgMT\n",
            "hzLYcPal\n",
            "FTlizOcW\n",
            "fAOQpu\n",
            "fMjSXEo\n",
            "OezYATMP\n",
            "JvPFIy\n",
            "WfJOKy\n",
            "cbjdfxW\n",
            "szloRN\n",
            "VoJQbiyZ\n",
            "MmFNzj\n",
            "fTEWZk\n",
            "lfxcvB\n",
            "eAtNhTR\n",
            "WbXETRga\n",
            "RjsuKwqA\n",
            "esnEGjD\n",
            "HWkxDPG\n",
            "VrQZokd\n",
            "xYZTtujd\n",
            "nEosHgac\n",
            "twjmprVc\n",
            "cDnIkNXP\n",
            "NLKIdVh\n",
            "FaNIyp\n",
            "tlyoUERF\n",
            "KbcpkvzP\n",
            "UBRfth\n",
            "BmvYDLjq\n",
            "VfvNIdrG\n",
            "SMbCPaK\n",
            "bZyslWn\n",
            "NYifkyhK\n",
            "xeuvoRi\n",
            "JodYym\n",
            "OqaHWox\n",
            "HYXAFChO\n",
            "oyUbvhEI\n"
          ]
        }
      ]
    },
    {
      "cell_type": "code",
      "source": [
        "def is_prime(n):\n",
        "    if n <= 1:\n",
        "        return False\n",
        "    if n % 2 == 0:\n",
        "        return False\n",
        "    for i in range(3, int(n**0.5) + 1):\n",
        "        if n % i == 0:\n",
        "            return False\n",
        "    return True\n",
        "\n",
        "print(\"Prime numbers between 600 and 800 -> \")\n",
        "for num in range(600, 801):\n",
        "    if is_prime(num):\n",
        "        print(num)\n"
      ],
      "metadata": {
        "colab": {
          "base_uri": "https://localhost:8080/"
        },
        "id": "oFHy56V5XQ_c",
        "outputId": "ec519997-4366-4900-d2b0-c6b8da8a1d1c"
      },
      "execution_count": 15,
      "outputs": [
        {
          "output_type": "stream",
          "name": "stdout",
          "text": [
            "Prime numbers between 600 and 800 -> \n",
            "601\n",
            "607\n",
            "613\n",
            "617\n",
            "619\n",
            "631\n",
            "641\n",
            "643\n",
            "647\n",
            "653\n",
            "659\n",
            "661\n",
            "673\n",
            "677\n",
            "683\n",
            "691\n",
            "701\n",
            "709\n",
            "719\n",
            "727\n",
            "733\n",
            "739\n",
            "743\n",
            "751\n",
            "757\n",
            "761\n",
            "769\n",
            "773\n",
            "787\n",
            "797\n"
          ]
        }
      ]
    },
    {
      "cell_type": "code",
      "source": [
        "print(\"Numbers between 100 and 1000 divisible by both 7 and 9 -> \")\n",
        "for num in range(100, 1001):\n",
        "    if num % 7 == 0 and num % 9 == 0:\n",
        "        print(num)"
      ],
      "metadata": {
        "colab": {
          "base_uri": "https://localhost:8080/"
        },
        "id": "OcZ76c_OYRe_",
        "outputId": "9bf448d6-0160-46cf-e6e3-f8bdd7ec91c4"
      },
      "execution_count": 14,
      "outputs": [
        {
          "output_type": "stream",
          "name": "stdout",
          "text": [
            "Numbers between 100 and 1000 divisible by both 7 and 9 -> \n",
            "126\n",
            "189\n",
            "252\n",
            "315\n",
            "378\n",
            "441\n",
            "504\n",
            "567\n",
            "630\n",
            "693\n",
            "756\n",
            "819\n",
            "882\n",
            "945\n"
          ]
        }
      ]
    },
    {
      "cell_type": "code",
      "source": [
        "import random as r\n",
        "L1 = [r.randint(10, 30) for _ in range(10)]\n",
        "L2 = [r.randint(10, 30) for _ in range(10)]\n",
        "print(\"Original list L1 -> \",L1)\n",
        "print (\"Original list L2 -> \",L2)\n",
        "common_numbers = list(set(L1).intersection(set(L2)))\n",
        "print (\"Common numbers in L1 and L2 are -> \",common_numbers)"
      ],
      "metadata": {
        "colab": {
          "base_uri": "https://localhost:8080/"
        },
        "id": "OhRxvimPkxfe",
        "outputId": "e34a4b46-c268-4354-edc7-bd720aae095d"
      },
      "execution_count": 7,
      "outputs": [
        {
          "output_type": "stream",
          "name": "stdout",
          "text": [
            "Original list L1 ->  [29, 13, 14, 13, 21, 25, 25, 24, 22, 23]\n",
            "Original list L2 ->  [11, 30, 14, 24, 29, 30, 13, 14, 20, 27]\n",
            "Common numbers in L1 and L2 are ->  [24, 29, 13, 14]\n"
          ]
        }
      ]
    },
    {
      "cell_type": "code",
      "source": [
        "import random as r\n",
        "L1 = [r.randint(10, 30) for _ in range(10)]\n",
        "L2 = [r.randint(10, 30) for _ in range(10)]\n",
        "print(\"Original list L1 -> \",L1)\n",
        "print (\"Original list L2 -> \",L2)\n",
        "unique_numbers = list((set(L1).union(set(L2))).difference(set(common_numbers)))\n",
        "print(\"Unique numbers in both lists -> \", unique_numbers)\n"
      ],
      "metadata": {
        "colab": {
          "base_uri": "https://localhost:8080/"
        },
        "id": "XZVtmMEFmh8d",
        "outputId": "f2aea116-9787-4752-9e2f-f394e1bd7e61"
      },
      "execution_count": 50,
      "outputs": [
        {
          "output_type": "stream",
          "name": "stdout",
          "text": [
            "Original list L1 ->  [18, 24, 23, 12, 19, 26, 18, 29, 25, 21]\n",
            "Original list L2 ->  [15, 29, 22, 23, 12, 18, 13, 23, 27, 10]\n",
            "Unique numbers in both lists ->  [10, 12, 15, 18, 19, 21, 22, 23, 25, 26, 27]\n"
          ]
        }
      ]
    },
    {
      "cell_type": "code",
      "source": [
        "import random as r\n",
        "L1 = [r.randint(10, 30) for _ in range(10)]\n",
        "L2 = [r.randint(10, 30) for _ in range(10)]\n",
        "print(\"Original list L1 -> \",L1)\n",
        "print (\"Original list L2 -> \",L2)\n",
        "print (\"Minimum in L1 -> \",min(L1))\n",
        "print (\"Minimum in L2 -> \",min(L2))"
      ],
      "metadata": {
        "colab": {
          "base_uri": "https://localhost:8080/"
        },
        "id": "RnLrsSiBm4x4",
        "outputId": "fd304be6-68a6-4caf-f69a-9bf5a6fe2a5d"
      },
      "execution_count": 9,
      "outputs": [
        {
          "output_type": "stream",
          "name": "stdout",
          "text": [
            "Original list L1 ->  [25, 11, 27, 22, 14, 14, 16, 18, 15, 19]\n",
            "Original list L2 ->  [14, 19, 21, 30, 22, 29, 17, 26, 15, 23]\n",
            "Minimum in L1 ->  11\n",
            "Minimum in L2 ->  14\n"
          ]
        }
      ]
    },
    {
      "cell_type": "code",
      "source": [
        "import random as r\n",
        "L1 = [r.randint(10, 30) for _ in range(10)]\n",
        "L2 = [r.randint(10, 30) for _ in range(10)]\n",
        "print(\"Original list L1 -> \",L1)\n",
        "print (\"Original list L2 -> \",L2)\n",
        "print (\"Maximum in L1 -> \",max(L1))\n",
        "print (\"Maximum in L2 -> \",max(L2))"
      ],
      "metadata": {
        "colab": {
          "base_uri": "https://localhost:8080/"
        },
        "id": "UGCXcTwknIWL",
        "outputId": "6eaf9563-0b25-4f8c-ddcb-a029e9b00cb6"
      },
      "execution_count": 10,
      "outputs": [
        {
          "output_type": "stream",
          "name": "stdout",
          "text": [
            "Original list L1 ->  [18, 18, 16, 25, 28, 27, 21, 17, 21, 15]\n",
            "Original list L2 ->  [25, 28, 14, 28, 26, 29, 17, 19, 17, 14]\n",
            "Maximum in L1 ->  28\n",
            "Maximum in L2 ->  29\n"
          ]
        }
      ]
    },
    {
      "cell_type": "code",
      "source": [
        "import random as r\n",
        "L1 = [r.randint(10, 30) for _ in range(10)]\n",
        "L2 = [r.randint(10, 30) for _ in range(10)]\n",
        "print(\"Original list L1 -> \",L1)\n",
        "print (\"Original list L2 -> \",L2)\n",
        "print (\"Sum of L1 -> \",sum(L1))\n",
        "print (\"Sum of L2 -> \",sum(L2))"
      ],
      "metadata": {
        "colab": {
          "base_uri": "https://localhost:8080/"
        },
        "id": "D1xajQmEnRye",
        "outputId": "2af7fa22-ec13-4308-d94e-67e79763025c"
      },
      "execution_count": 40,
      "outputs": [
        {
          "output_type": "stream",
          "name": "stdout",
          "text": [
            "Original list L1 ->  [24, 19, 18, 21, 28, 20, 11, 14, 23, 27]\n",
            "Original list L2 ->  [25, 22, 29, 24, 24, 20, 11, 30, 27, 23]\n",
            "Sum of L1 ->  205\n",
            "Sum of L2 ->  235\n"
          ]
        }
      ]
    },
    {
      "cell_type": "code",
      "source": [
        "import random as r\n",
        "L = [r.randint(100,900) for _ in range (100)]\n",
        "print (\"Original List -> \",L)\n",
        "def is_odd(L):\n",
        "  return L%2 != 0\n",
        "odd_count = 0\n",
        "for num in L:\n",
        "  if is_odd(num):\n",
        "    odd_count += 1\n",
        "print (\"No. of odd numbers in list are -> \",odd_count)"
      ],
      "metadata": {
        "colab": {
          "base_uri": "https://localhost:8080/"
        },
        "id": "e7gy_Vm_ol5j",
        "outputId": "c7b61b03-a732-48ff-c491-c558962dc243"
      },
      "execution_count": 26,
      "outputs": [
        {
          "output_type": "stream",
          "name": "stdout",
          "text": [
            "Original List ->  [132, 638, 311, 731, 387, 319, 396, 644, 132, 327, 809, 561, 281, 475, 632, 433, 614, 116, 143, 214, 677, 399, 704, 542, 862, 532, 445, 624, 282, 212, 396, 418, 218, 364, 135, 780, 701, 362, 142, 808, 146, 308, 316, 384, 682, 442, 368, 545, 747, 505, 617, 321, 664, 454, 277, 506, 674, 705, 579, 524, 341, 624, 486, 387, 476, 542, 343, 403, 862, 182, 453, 578, 663, 691, 100, 538, 633, 571, 471, 545, 692, 410, 220, 686, 242, 481, 644, 726, 654, 643, 170, 382, 670, 384, 569, 485, 202, 437, 735, 806]\n",
            "No. of odd numbers in list are ->  41\n"
          ]
        }
      ]
    },
    {
      "cell_type": "code",
      "source": [
        "import random as r\n",
        "L = [r.randint(100,900) for _ in range (100)]\n",
        "print (\"Original List -> \",L)\n",
        "def is_even(L):\n",
        "  return L%2 == 0\n",
        "even_count = 0\n",
        "for num in L:\n",
        "  if is_even(num):\n",
        "    even_count += 1\n",
        "print (\"No. of even numbers in list are -> \",even_count)"
      ],
      "metadata": {
        "colab": {
          "base_uri": "https://localhost:8080/"
        },
        "id": "p1XP3ydNosGe",
        "outputId": "48590bc2-6c74-487a-8383-22d64c3f3ed0"
      },
      "execution_count": 27,
      "outputs": [
        {
          "output_type": "stream",
          "name": "stdout",
          "text": [
            "Original List ->  [444, 900, 888, 507, 852, 498, 623, 494, 347, 310, 563, 833, 659, 700, 505, 656, 625, 466, 348, 209, 834, 740, 717, 863, 197, 346, 194, 637, 510, 465, 650, 771, 288, 553, 652, 486, 633, 536, 370, 165, 620, 660, 458, 741, 333, 626, 584, 447, 231, 512, 839, 820, 833, 543, 315, 387, 274, 343, 646, 622, 422, 121, 469, 517, 350, 456, 870, 368, 161, 210, 196, 422, 481, 878, 885, 718, 393, 351, 844, 266, 779, 565, 612, 287, 698, 854, 861, 119, 698, 226, 881, 126, 128, 510, 390, 526, 333, 627, 305, 350]\n",
            "No. of even numbers in list are ->  55\n"
          ]
        }
      ]
    },
    {
      "cell_type": "code",
      "metadata": {
        "colab": {
          "base_uri": "https://localhost:8080/"
        },
        "id": "f8f7f039",
        "outputId": "a2c5456d-7af3-4a54-c01d-654fa4010a64"
      },
      "source": [
        "import random as r\n",
        "L = [r.randint(100,900) for _ in range (100)]\n",
        "print (\"Original List -> \",L)\n",
        "def is_prime(n):\n",
        "    if n <= 1:\n",
        "        return False\n",
        "    if n % 2 == 0:\n",
        "        return False\n",
        "    for i in range(3, int(n**0.5) + 1):\n",
        "        if n % i == 0:\n",
        "            return False\n",
        "    return True\n",
        "\n",
        "prime_count = 0\n",
        "for num in L:\n",
        "    if is_prime(num):\n",
        "        prime_count += 1\n",
        "\n",
        "print(f\"There are {prime_count} prime numbers in the list.\")"
      ],
      "execution_count": 31,
      "outputs": [
        {
          "output_type": "stream",
          "name": "stdout",
          "text": [
            "Original List ->  [629, 243, 723, 675, 751, 782, 640, 786, 615, 291, 313, 616, 625, 807, 121, 875, 827, 743, 243, 581, 466, 264, 875, 559, 782, 539, 279, 659, 659, 824, 374, 205, 604, 344, 262, 790, 500, 645, 479, 357, 585, 739, 714, 167, 311, 766, 285, 861, 142, 427, 635, 859, 450, 495, 820, 592, 360, 331, 626, 264, 206, 440, 702, 100, 715, 357, 351, 416, 214, 307, 358, 229, 836, 393, 444, 422, 798, 297, 785, 211, 771, 598, 213, 738, 821, 830, 716, 173, 205, 686, 836, 241, 295, 539, 487, 621, 378, 431, 832, 833]\n",
            "There are 20 prime numbers in the list.\n"
          ]
        }
      ]
    },
    {
      "cell_type": "code",
      "source": [
        "%%file dictionary_output.txt #to create a text file"
      ],
      "metadata": {
        "colab": {
          "base_uri": "https://localhost:8080/"
        },
        "id": "_zLy3jnsaRKt",
        "outputId": "87f60236-87a0-4959-9dd9-7be23016b448"
      },
      "execution_count": 1,
      "outputs": [
        {
          "output_type": "stream",
          "name": "stdout",
          "text": [
            "Writing dictionary_output.txt\n"
          ]
        }
      ]
    },
    {
      "cell_type": "code",
      "source": [
        "D = {1:\"One\", 2:\"Two\", 3:\"Three\", 4:\"Four\", 5:\"Five\"}\n",
        "print (\"Original dictionary -> \",D)\n",
        "fp = open('dictionary_output.txt', 'w')\n",
        "\n",
        "for key, value in D.items():\n",
        "    fp.write(str(key) + \", \" + value + \"\\n\")\n",
        "\n",
        "fp.close()\n",
        "\n",
        "print(\"Writing done!! \\nOpen dictionary_output.txt to view the content\")"
      ],
      "metadata": {
        "colab": {
          "base_uri": "https://localhost:8080/"
        },
        "id": "gdvNrKS1smJ8",
        "outputId": "14cbd4e4-2d8f-4ffa-b8dc-251634c1339c"
      },
      "execution_count": 2,
      "outputs": [
        {
          "output_type": "stream",
          "name": "stdout",
          "text": [
            "Original dictionary ->  {1: 'One', 2: 'Two', 3: 'Three', 4: 'Four', 5: 'Five'}\n",
            "Writing done!! \n",
            "Open dictionary_output.txt to view the content\n"
          ]
        }
      ]
    },
    {
      "cell_type": "code",
      "source": [
        "%%file length_output.txt"
      ],
      "metadata": {
        "colab": {
          "base_uri": "https://localhost:8080/"
        },
        "id": "LS0-ZCi6arrg",
        "outputId": "767c5291-015e-4ca2-dc26-89a9c8a34374"
      },
      "execution_count": 3,
      "outputs": [
        {
          "output_type": "stream",
          "name": "stdout",
          "text": [
            "Writing length_output.txt\n"
          ]
        }
      ]
    },
    {
      "cell_type": "code",
      "source": [
        "L = [\"One\",\"Two\",\"Three\",\"Four\",\"Five\"]\n",
        "print (\"Original list -> \",L)\n",
        "fp = open(\"length_output.txt\",\"w\")\n",
        "for item in L:\n",
        "  fp.write(item + \", \" + str(len(item)) + \"\\n\")\n",
        "fp.close()\n",
        "print(\"Writing done!! \\nOpen length_output.txt to view the content\")"
      ],
      "metadata": {
        "colab": {
          "base_uri": "https://localhost:8080/"
        },
        "id": "S9A-KUVjuLsM",
        "outputId": "a8cfb064-63b4-44b0-c80e-5abf391e596b"
      },
      "execution_count": 4,
      "outputs": [
        {
          "output_type": "stream",
          "name": "stdout",
          "text": [
            "Original list ->  ['One', 'Two', 'Three', 'Four', 'Five']\n",
            "Writing done!! \n",
            "Open length_output.txt to view the content\n"
          ]
        }
      ]
    },
    {
      "cell_type": "code",
      "source": [
        "%%file random_strings.txt"
      ],
      "metadata": {
        "colab": {
          "base_uri": "https://localhost:8080/"
        },
        "id": "Ktm2HpUja7mS",
        "outputId": "004318e3-29c5-4930-f735-88d4be50193a"
      },
      "execution_count": 5,
      "outputs": [
        {
          "output_type": "stream",
          "name": "stdout",
          "text": [
            "Writing random_strings.txt\n"
          ]
        }
      ]
    },
    {
      "cell_type": "code",
      "source": [
        "import random as r\n",
        "import string\n",
        "\n",
        "fp = open('random_strings.txt', 'w')\n",
        "\n",
        "for _ in range(100):\n",
        "    length = r.randint(10, 15)\n",
        "    random_str = ''.join(r.choice(string.ascii_letters) for _ in range(length))\n",
        "    fp.write(random_str + \"\\n\")\n",
        "\n",
        "fp.close()\n",
        "\n",
        "print(\"Writing done!! \\nOpen random_strings.txt to view 100 random strings\")"
      ],
      "metadata": {
        "colab": {
          "base_uri": "https://localhost:8080/"
        },
        "id": "lmAf9WoXvK7W",
        "outputId": "1937c18c-1936-435a-c806-197c0d90a331"
      },
      "execution_count": 6,
      "outputs": [
        {
          "output_type": "stream",
          "name": "stdout",
          "text": [
            "Writing done!! \n",
            "Open random_strings.txt to view 100 random strings\n"
          ]
        }
      ]
    },
    {
      "cell_type": "code",
      "source": [
        "%%file primes_600_800.txt"
      ],
      "metadata": {
        "colab": {
          "base_uri": "https://localhost:8080/"
        },
        "id": "pg2o0CwEbDLH",
        "outputId": "aa1e3a16-0423-4131-ba0a-6323ee733ece"
      },
      "execution_count": 9,
      "outputs": [
        {
          "output_type": "stream",
          "name": "stdout",
          "text": [
            "Overwriting primes_600_800.txt\n"
          ]
        }
      ]
    },
    {
      "cell_type": "code",
      "source": [
        "def is_prime(n):\n",
        "    if n <= 1:\n",
        "        return False\n",
        "    for i in range(2, int(n**0.5) + 1):\n",
        "        if n % i == 0:\n",
        "            return False\n",
        "    return True\n",
        "\n",
        "fp = open('primes_600_800.txt', 'w')\n",
        "\n",
        "for num in range(600, 801):\n",
        "    if is_prime(num):\n",
        "        fp.write(str(num) + \"\\n\")\n",
        "\n",
        "fp.close()\n",
        "\n",
        "print(\"Writing done!! \\nOpen primes_600_800.txt to view prime numbers\")"
      ],
      "metadata": {
        "colab": {
          "base_uri": "https://localhost:8080/"
        },
        "id": "y8xxWHZ9wF9K",
        "outputId": "c1fed8ba-abec-4efa-df21-b42f13c299cb"
      },
      "execution_count": 10,
      "outputs": [
        {
          "output_type": "stream",
          "name": "stdout",
          "text": [
            "Writing done!! \n",
            "Open primes_600_800.txt to view prime numbers\n"
          ]
        }
      ]
    },
    {
      "cell_type": "code",
      "source": [
        "import time as t\n",
        "t1 = t.time()\n",
        "print (t1)\n",
        "\n",
        "# program for which you calculate the time\n",
        "\n",
        "t2 = t.time()\n",
        "print (t2)\n",
        "print (\"total time taken = \",t2-t1)\n"
      ],
      "metadata": {
        "colab": {
          "base_uri": "https://localhost:8080/"
        },
        "id": "RwxcNlQBy0LU",
        "outputId": "2b68675d-95ad-400e-df7d-ff3cf8aa9882"
      },
      "execution_count": 44,
      "outputs": [
        {
          "output_type": "stream",
          "name": "stdout",
          "text": [
            "1749809884.5281894\n",
            "1749809884.5283186\n",
            "total time taken =  0.00012922286987304688\n"
          ]
        }
      ]
    },
    {
      "cell_type": "code",
      "source": [
        "import random as r\n",
        "import time as t\n",
        "t1 = t.time()\n",
        "L = [r.randint(100,900) for _ in range (100)]\n",
        "print (\"Original List -> \",L)"
      ],
      "metadata": {
        "colab": {
          "base_uri": "https://localhost:8080/"
        },
        "id": "0AOJ1yBNfI5v",
        "outputId": "f668b26d-c608-4cf8-e6f4-eb8f9b10beb2"
      },
      "execution_count": 12,
      "outputs": [
        {
          "output_type": "stream",
          "name": "stdout",
          "text": [
            "Original List ->  [664, 885, 801, 790, 625, 791, 733, 207, 540, 628, 585, 338, 770, 124, 857, 609, 882, 801, 242, 488, 747, 528, 758, 674, 151, 294, 285, 363, 403, 532, 249, 715, 542, 558, 173, 651, 731, 699, 824, 428, 770, 612, 532, 729, 132, 718, 611, 184, 572, 140, 287, 428, 405, 794, 257, 635, 408, 881, 732, 853, 519, 638, 466, 802, 596, 434, 473, 689, 446, 800, 895, 248, 808, 879, 732, 673, 599, 388, 336, 253, 648, 885, 355, 880, 874, 509, 896, 719, 366, 601, 243, 188, 536, 285, 192, 697, 750, 537, 862, 582]\n"
          ]
        }
      ]
    },
    {
      "cell_type": "markdown",
      "source": [],
      "metadata": {
        "id": "3p9KFV6czbQz"
      }
    },
    {
      "cell_type": "code",
      "source": [
        "import random as r\n",
        "import matplotlib.pyplot as plt\n",
        "import seaborn as sns\n",
        "\n",
        "sizes = [5000, 10000, 15000, 20000, 25000]\n",
        "times = []\n",
        "\n",
        "arrays = []\n",
        "for size in sizes:\n",
        "    arrays.append([r.randint(1, 100) for _ in range(size)])\n",
        "\n",
        "for arr in arrays:\n",
        "    start_time = t.time()\n",
        "    sorted_arr = sorted(arr)\n",
        "    end_time = t.time()\n",
        "    times.append(end_time - start_time)\n",
        "\n",
        "sns.lineplot(x=sizes, y=times)\n",
        "plt.title('Sorting Time vs Array Size')\n",
        "plt.xlabel('Number of Elements')\n",
        "plt.ylabel('Time (seconds)')\n",
        "plt.legend()\n",
        "plt.show()"
      ],
      "metadata": {
        "colab": {
          "base_uri": "https://localhost:8080/",
          "height": 528
        },
        "id": "1hROyF_llNl9",
        "outputId": "8e003c10-02bd-44fd-d092-d2313dfa4479"
      },
      "execution_count": 13,
      "outputs": [
        {
          "output_type": "stream",
          "name": "stderr",
          "text": [
            "<ipython-input-13-3508947863>:22: UserWarning: No artists with labels found to put in legend.  Note that artists whose label start with an underscore are ignored when legend() is called with no argument.\n",
            "  plt.legend()\n"
          ]
        },
        {
          "output_type": "display_data",
          "data": {
            "text/plain": [
              "<Figure size 640x480 with 1 Axes>"
            ],
            "image/png": "[encoded data removed]"
          },
          "metadata": {}
        }
      ]
    },
    {
      "cell_type": "code",
      "source": [
        "student_marks = {\n",
        "    \"Alice\": [85, 90, 78, 92, 88],\n",
        "    \"Bob\": [72, 68, 75, 80, 65],\n",
        "    \"Charlie\": [90, 95, 92, 88, 94],\n",
        "    \"Diana\": [60, 65, 70, 62, 68],\n",
        "    \"Ethan\": [78, 82, 80, 85, 79]\n",
        "}\n",
        "\n",
        "averages = {}\n",
        "for student, marks in student_marks.items():\n",
        "    averages[student] = sum(marks) / len(marks)\n",
        "\n",
        "max_student = max(averages, key=averages.get)\n",
        "max_avg = averages[max_student]\n",
        "\n",
        "min_student = min(averages, key=averages.get)\n",
        "min_avg = averages[min_student]\n",
        "\n",
        "print(\"Student Averages:\")\n",
        "for student, avg in averages.items():\n",
        "    print(f\"{student}: {avg}\")\n",
        "\n",
        "print(f\"\\nStudent with highest average: {max_student} ({max_avg})\")\n",
        "print(f\"Student with lowest average: {min_student} ({min_avg})\")"
      ],
      "metadata": {
        "colab": {
          "base_uri": "https://localhost:8080/"
        },
        "id": "iodxk07Oz7TC",
        "outputId": "294cd597-b65f-4620-94dd-ed1562b13671"
      },
      "execution_count": 48,
      "outputs": [
        {
          "output_type": "stream",
          "name": "stdout",
          "text": [
            "Student Averages:\n",
            "Alice: 86.6\n",
            "Bob: 72.0\n",
            "Charlie: 91.8\n",
            "Diana: 65.0\n",
            "Ethan: 80.8\n",
            "\n",
            "Student with highest average: Charlie (91.8)\n",
            "Student with lowest average: Diana (65.0)\n"
          ]
        }
      ]
    },
    {
      "cell_type": "code",
      "source": [],
      "metadata": {
        "id": "EctGKWLZzBBJ"
      },
      "execution_count": null,
      "outputs": []
    }
  ]
}